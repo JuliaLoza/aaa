{
  "nbformat": 4,
  "nbformat_minor": 0,
  "metadata": {
    "colab": {
      "provenance": [],
      "collapsed_sections": []
    },
    "kernelspec": {
      "name": "python3",
      "display_name": "Python 3"
    },
    "language_info": {
      "name": "python"
    }
  },
  "cells": [
    {
      "cell_type": "code",
      "execution_count": null,
      "metadata": {
        "id": "FFlC1dn69ncR"
      },
      "outputs": [],
      "source": [
        "Lorem ipsum dolor sit amet, consectetur adipiscing elit,\n",
        "sed do eiusmod tempor incididunt ut labore\n",
        "et dolore magna aliqua."
      ]
    },
    {
      "cell_type": "code",
      "source": [
        "x = \"Lorem \"\n",
        "y = \"ipsum \"\n",
        "a = \"dolor \"\n",
        "b = \"sit \"\n",
        "c = \"amet \"\n",
        "d = \"consectetur \"\n",
        "e = \"adipiscing \"\n",
        "f = \"elit, \"\n",
        "g = \"sed \"\n",
        "h = \"do \"\n",
        "i = \"eiusmod \"\n",
        "j = \"tempor \"\n",
        "k = \"incididunt \"\n",
        "l = \"ut \"\n",
        "ł = \"labore \"\n",
        "m = \"et \"\n",
        "n = \"dolore \"\n",
        "o = \"magna \"\n",
        "p = \"aliqua.\"\n",
        "print(x+y+a+b+c+d+e+f)\n",
        "print(g+h+i+j+k+l+ł)\n",
        "print(m+n+o+p)"
      ],
      "metadata": {
        "id": "uxCV9LN0DMt5",
        "colab": {
          "base_uri": "https://localhost:8080/"
        },
        "outputId": "d965ac96-5829-43bb-9e23-0cc0e0c3d9b5"
      },
      "execution_count": null,
      "outputs": [
        {
          "output_type": "stream",
          "name": "stdout",
          "text": [
            "Lorem ipsum dolor sit amet consectetur adipiscing elit, \n",
            "sed do eiusmod tempor incididunt ut labore \n",
            "et dolore magna aliqua.\n"
          ]
        }
      ]
    },
    {
      "cell_type": "code",
      "source": [
        "#2zad\n",
        "x = \"Lorem \"\n",
        "y = 2\n",
        "a = 4.5\n",
        "b = True\n",
        "print((x + \"{} {} {}\").format(y, a, b))"
      ],
      "metadata": {
        "colab": {
          "base_uri": "https://localhost:8080/"
        },
        "id": "Fnc_Znp0HZzi",
        "outputId": "cee41a53-d1dc-4236-ea26-191ba7c85e06"
      },
      "execution_count": null,
      "outputs": [
        {
          "output_type": "stream",
          "name": "stdout",
          "text": [
            "Lorem 2 4.5 True\n"
          ]
        }
      ]
    },
    {
      "cell_type": "code",
      "source": [
        "#3zad\n",
        "x=2\n",
        "y=5\n",
        "print(x+y)  #7\n",
        "print(x-y)  #-3\n",
        "print(x*y)  #10\n",
        "print(x/y)  #0.4\n",
        "print(x%y)  #2\n",
        "print(x**y) #32"
      ],
      "metadata": {
        "colab": {
          "base_uri": "https://localhost:8080/"
        },
        "id": "ZoBPTaiAHqQ9",
        "outputId": "fa3b1fd6-6637-42a4-9fa3-14b3f97644d7"
      },
      "execution_count": null,
      "outputs": [
        {
          "output_type": "stream",
          "name": "stdout",
          "text": [
            "7\n",
            "-3\n",
            "10\n",
            "0.4\n",
            "2\n",
            "32\n"
          ]
        }
      ]
    },
    {
      "cell_type": "code",
      "source": [
        "#4zad\n",
        "x=2\n",
        "y=5.5\n",
        "print(x==y)  #false\n",
        "print(x!=y)  #true\n",
        "print(x>y)   #false\n",
        "print(x<y)   #true\n",
        "print(x>=y)  #false\n",
        "print(x<=y)  #true\n"
      ],
      "metadata": {
        "colab": {
          "base_uri": "https://localhost:8080/"
        },
        "id": "VJ0-YaK5ISEE",
        "outputId": "b7702961-362a-4526-fc01-821bc2114039"
      },
      "execution_count": null,
      "outputs": [
        {
          "output_type": "stream",
          "name": "stdout",
          "text": [
            "False\n",
            "True\n",
            "False\n",
            "True\n",
            "False\n",
            "True\n"
          ]
        }
      ]
    },
    {
      "cell_type": "code",
      "source": [
        "#5zad\n",
        "x = \"Siedze sobie\"\n",
        "y= \" na krzesle\"\n",
        "print(x+\"<- pierwsza zmienna | druga zmienna->\"+y)"
      ],
      "metadata": {
        "colab": {
          "base_uri": "https://localhost:8080/"
        },
        "id": "h1t6CukMJ-vA",
        "outputId": "193758e0-4bb4-4a89-dadf-1c71be615a99"
      },
      "execution_count": null,
      "outputs": [
        {
          "output_type": "stream",
          "name": "stdout",
          "text": [
            "Siedze sobie<- pierwsza zmienna | druga zmienna-> na krzesle\n"
          ]
        }
      ]
    }
  ]
}